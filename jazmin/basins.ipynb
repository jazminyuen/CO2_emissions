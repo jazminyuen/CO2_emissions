{
 "cells": [
  {
   "cell_type": "code",
   "execution_count": null,
   "id": "9ebbb7a2",
   "metadata": {},
   "outputs": [],
   "source": [
    "# Import dependencies\n",
    "import pandas as pd"
   ]
  },
  {
   "cell_type": "code",
   "execution_count": null,
   "id": "dec36082",
   "metadata": {},
   "outputs": [],
   "source": [
    "# Load files\n",
    "gather_df = pd.read_excel(\"ghgp_data_by_year.xlsx\", sheet_name=\"Gathering & Boosting\", header=3)\n",
    "oil_df = pd.read_excel(\"ghgp_data_by_year.xlsx\", sheet_name=\"Onshore Oil & Gas Prod.\", header=3)"
   ]
  },
  {
   "cell_type": "code",
   "execution_count": null,
   "id": "4dec2d8e",
   "metadata": {
    "scrolled": true
   },
   "outputs": [],
   "source": [
    "# Inspect columns\n",
    "oil_df.columns"
   ]
  },
  {
   "cell_type": "code",
   "execution_count": null,
   "id": "f8caeca1",
   "metadata": {},
   "outputs": [],
   "source": [
    "# Keep desired columns\n",
    "oil_df = oil_df.drop(columns=['FRS Id','Reported City',\n",
    "       'Reported State', 'Reported Zip Code', 'Reported Address',\n",
    "       'Reported County'])"
   ]
  },
  {
   "cell_type": "code",
   "execution_count": null,
   "id": "94ae6c9d",
   "metadata": {},
   "outputs": [],
   "source": [
    "oil_df.columns"
   ]
  },
  {
   "cell_type": "code",
   "execution_count": null,
   "id": "9e5292d5",
   "metadata": {},
   "outputs": [],
   "source": [
    "# Rename columns\n",
    "cols = {'Facility Id': 'facility_id', 'Facility Name': 'facility_name', 'Basin': 'basin', 'Reported Latitude': 'lat',\n",
    "       'Reported Longitude': 'lon', 'Primary NAICS Code': 'primary_naics_code',\n",
    "       'Latest Reported Industry Type (subparts)': 'industry_type_subpart',\n",
    "       '2020 Total reported emissions from Onshore Oil & Gas Production ': 'total_emissions_2020',\n",
    "       '2019 Total reported emissions from Onshore Oil & Gas Production ': 'total_emissions_2019',\n",
    "       '2018 Total reported emissions from Onshore Oil & Gas Production ': 'total_emissions_2028',\n",
    "       '2017 Total reported emissions from Onshore Oil & Gas Production ': 'total_emissions_2017',\n",
    "       '2016 Total reported emissions from Onshore Oil & Gas Production ': 'total_emissions_2016',\n",
    "       '2015 Total reported emissions from Onshore Oil & Gas Production ': 'total_emissions_2015',\n",
    "       '2014 Total reported emissions from Onshore Oil & Gas Production ': 'total_emissions_2014',\n",
    "       '2013 Total reported emissions from Onshore Oil & Gas Production ': 'total_emissions_2013',\n",
    "       '2012 Total reported emissions from Onshore Oil & Gas Production ': 'total_emissions_2012',\n",
    "       '2011 Total reported emissions from Onshore Oil & Gas Production ': 'total_emissions_2011'}\n",
    "oil_df = oil_df.rename(columns=cols)"
   ]
  },
  {
   "cell_type": "code",
   "execution_count": null,
   "id": "f2f9dc5e",
   "metadata": {},
   "outputs": [],
   "source": [
    "oil_df.head()"
   ]
  },
  {
   "cell_type": "code",
   "execution_count": null,
   "id": "6570cd21",
   "metadata": {},
   "outputs": [],
   "source": [
    "for x in oil_df[\"basin\"]:\n",
    "    oil_df[\"basin\", \"basin_name\"] = oil_df.basin.apply(lambda x: pd.Series(str(x).split(\"-\")))"
   ]
  },
  {
   "cell_type": "code",
   "execution_count": null,
   "id": "1894b5fd",
   "metadata": {},
   "outputs": [],
   "source": []
  },
  {
   "cell_type": "code",
   "execution_count": null,
   "id": "520bbe7c",
   "metadata": {},
   "outputs": [],
   "source": [
    "oil_df.head()"
   ]
  },
  {
   "cell_type": "code",
   "execution_count": null,
   "id": "9781520e",
   "metadata": {},
   "outputs": [],
   "source": [
    "gather_df.columns"
   ]
  },
  {
   "cell_type": "code",
   "execution_count": null,
   "id": "9a39ab65",
   "metadata": {},
   "outputs": [],
   "source": []
  }
 ],
 "metadata": {
  "kernelspec": {
   "display_name": "PythonData",
   "language": "python",
   "name": "pythondata"
  },
  "language_info": {
   "codemirror_mode": {
    "name": "ipython",
    "version": 3
   },
   "file_extension": ".py",
   "mimetype": "text/x-python",
   "name": "python",
   "nbconvert_exporter": "python",
   "pygments_lexer": "ipython3",
   "version": "3.7.11"
  }
 },
 "nbformat": 4,
 "nbformat_minor": 5
}
