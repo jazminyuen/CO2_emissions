{
 "cells": [
  {
   "cell_type": "code",
   "execution_count": 1,
   "id": "b501be67",
   "metadata": {},
   "outputs": [],
   "source": [
    "# Import dependencies\n",
    "import pandas as pd"
   ]
  },
  {
   "cell_type": "code",
   "execution_count": 2,
   "id": "06efe49f",
   "metadata": {},
   "outputs": [],
   "source": [
    "# Load files\n",
    "gather_df = pd.read_excel(\"ghgp_data_by_year.xlsx\", sheet_name=\"Gathering & Boosting\", header=3)\n",
    "oil_df = pd.read_excel(\"ghgp_data_by_year.xlsx\", sheet_name=\"Onshore Oil & Gas Prod.\", header=3)"
   ]
  },
  {
   "cell_type": "code",
   "execution_count": 3,
   "id": "ef6252b3",
   "metadata": {
    "scrolled": true
   },
   "outputs": [
    {
     "data": {
      "text/plain": [
       "Index(['Facility Id', 'FRS Id', 'Facility Name', 'Basin', 'Reported City',\n",
       "       'Reported State', 'Reported Zip Code', 'Reported Address',\n",
       "       'Reported County', 'Reported Latitude', 'Reported Longitude',\n",
       "       'Primary NAICS Code', 'Latest Reported Industry Type (subparts)',\n",
       "       '2020 Total reported emissions from Onshore Oil & Gas Production ',\n",
       "       '2019 Total reported emissions from Onshore Oil & Gas Production ',\n",
       "       '2018 Total reported emissions from Onshore Oil & Gas Production ',\n",
       "       '2017 Total reported emissions from Onshore Oil & Gas Production ',\n",
       "       '2016 Total reported emissions from Onshore Oil & Gas Production ',\n",
       "       '2015 Total reported emissions from Onshore Oil & Gas Production ',\n",
       "       '2014 Total reported emissions from Onshore Oil & Gas Production ',\n",
       "       '2013 Total reported emissions from Onshore Oil & Gas Production ',\n",
       "       '2012 Total reported emissions from Onshore Oil & Gas Production ',\n",
       "       '2011 Total reported emissions from Onshore Oil & Gas Production '],\n",
       "      dtype='object')"
      ]
     },
     "execution_count": 3,
     "metadata": {},
     "output_type": "execute_result"
    }
   ],
   "source": [
    "# Inspect columns\n",
    "oil_df.columns"
   ]
  },
  {
   "cell_type": "code",
   "execution_count": 4,
   "id": "4119b955",
   "metadata": {},
   "outputs": [],
   "source": [
    "# Keep desired columns\n",
    "oil_df = oil_df.drop(columns=['FRS Id','Reported City',\n",
    "       'Reported State', 'Reported Zip Code', 'Reported Address',\n",
    "       'Reported County'])"
   ]
  },
  {
   "cell_type": "code",
   "execution_count": 5,
   "id": "02b7234c",
   "metadata": {},
   "outputs": [
    {
     "data": {
      "text/plain": [
       "Index(['Facility Id', 'Facility Name', 'Basin', 'Reported Latitude',\n",
       "       'Reported Longitude', 'Primary NAICS Code',\n",
       "       'Latest Reported Industry Type (subparts)',\n",
       "       '2020 Total reported emissions from Onshore Oil & Gas Production ',\n",
       "       '2019 Total reported emissions from Onshore Oil & Gas Production ',\n",
       "       '2018 Total reported emissions from Onshore Oil & Gas Production ',\n",
       "       '2017 Total reported emissions from Onshore Oil & Gas Production ',\n",
       "       '2016 Total reported emissions from Onshore Oil & Gas Production ',\n",
       "       '2015 Total reported emissions from Onshore Oil & Gas Production ',\n",
       "       '2014 Total reported emissions from Onshore Oil & Gas Production ',\n",
       "       '2013 Total reported emissions from Onshore Oil & Gas Production ',\n",
       "       '2012 Total reported emissions from Onshore Oil & Gas Production ',\n",
       "       '2011 Total reported emissions from Onshore Oil & Gas Production '],\n",
       "      dtype='object')"
      ]
     },
     "execution_count": 5,
     "metadata": {},
     "output_type": "execute_result"
    }
   ],
   "source": [
    "oil_df.columns"
   ]
  },
  {
   "cell_type": "code",
   "execution_count": 6,
   "id": "cce35fde",
   "metadata": {},
   "outputs": [],
   "source": [
    "# Rename columns\n",
    "cols = {'Facility Id': 'facility_id', 'Facility Name': 'facility_name', 'Basin': 'basin', 'Reported Latitude': 'lat',\n",
    "       'Reported Longitude': 'lon', 'Primary NAICS Code': 'primary_naics_code',\n",
    "       'Latest Reported Industry Type (subparts)': 'industry_type_subpart',\n",
    "       '2020 Total reported emissions from Onshore Oil & Gas Production ': 'total_emissions_2020',\n",
    "       '2019 Total reported emissions from Onshore Oil & Gas Production ': 'total_emissions_2019',\n",
    "       '2018 Total reported emissions from Onshore Oil & Gas Production ': 'total_emissions_2028',\n",
    "       '2017 Total reported emissions from Onshore Oil & Gas Production ': 'total_emissions_2017',\n",
    "       '2016 Total reported emissions from Onshore Oil & Gas Production ': 'total_emissions_2016',\n",
    "       '2015 Total reported emissions from Onshore Oil & Gas Production ': 'total_emissions_2015',\n",
    "       '2014 Total reported emissions from Onshore Oil & Gas Production ': 'total_emissions_2014',\n",
    "       '2013 Total reported emissions from Onshore Oil & Gas Production ': 'total_emissions_2013',\n",
    "       '2012 Total reported emissions from Onshore Oil & Gas Production ': 'total_emissions_2012',\n",
    "       '2011 Total reported emissions from Onshore Oil & Gas Production ': 'total_emissions_2011'}\n",
    "oil_df = oil_df.rename(columns=cols)"
   ]
  },
  {
   "cell_type": "code",
   "execution_count": 7,
   "id": "8b26f391",
   "metadata": {},
   "outputs": [
    {
     "data": {
      "text/html": [
       "<div>\n",
       "<style scoped>\n",
       "    .dataframe tbody tr th:only-of-type {\n",
       "        vertical-align: middle;\n",
       "    }\n",
       "\n",
       "    .dataframe tbody tr th {\n",
       "        vertical-align: top;\n",
       "    }\n",
       "\n",
       "    .dataframe thead th {\n",
       "        text-align: right;\n",
       "    }\n",
       "</style>\n",
       "<table border=\"1\" class=\"dataframe\">\n",
       "  <thead>\n",
       "    <tr style=\"text-align: right;\">\n",
       "      <th></th>\n",
       "      <th>facility_id</th>\n",
       "      <th>facility_name</th>\n",
       "      <th>basin</th>\n",
       "      <th>lat</th>\n",
       "      <th>lon</th>\n",
       "      <th>primary_naics_code</th>\n",
       "      <th>industry_type_subpart</th>\n",
       "      <th>total_emissions_2020</th>\n",
       "      <th>total_emissions_2019</th>\n",
       "      <th>total_emissions_2028</th>\n",
       "      <th>total_emissions_2017</th>\n",
       "      <th>total_emissions_2016</th>\n",
       "      <th>total_emissions_2015</th>\n",
       "      <th>total_emissions_2014</th>\n",
       "      <th>total_emissions_2013</th>\n",
       "      <th>total_emissions_2012</th>\n",
       "      <th>total_emissions_2011</th>\n",
       "    </tr>\n",
       "  </thead>\n",
       "  <tbody>\n",
       "    <tr>\n",
       "      <th>0</th>\n",
       "      <td>1000355</td>\n",
       "      <td>#540 BONANZA CREEK ENERGY - DENVER BASIN</td>\n",
       "      <td>540 - Denver Basin</td>\n",
       "      <td>39.744310</td>\n",
       "      <td>-104.988580</td>\n",
       "      <td>211120</td>\n",
       "      <td>W-ONSH</td>\n",
       "      <td>293919.042</td>\n",
       "      <td>330937.72</td>\n",
       "      <td>273069.722</td>\n",
       "      <td>242958.734</td>\n",
       "      <td>261382.840</td>\n",
       "      <td>354850.70</td>\n",
       "      <td>243116.642</td>\n",
       "      <td>163013.800</td>\n",
       "      <td>151519.070</td>\n",
       "      <td>17728.250</td>\n",
       "    </tr>\n",
       "    <tr>\n",
       "      <th>1</th>\n",
       "      <td>1009263</td>\n",
       "      <td>220 Gulf Coast</td>\n",
       "      <td>220 - Gulf Coast Basin (LA, TX)</td>\n",
       "      <td>35.567190</td>\n",
       "      <td>-97.498270</td>\n",
       "      <td>211111</td>\n",
       "      <td>W-ONSH</td>\n",
       "      <td>NaN</td>\n",
       "      <td>NaN</td>\n",
       "      <td>NaN</td>\n",
       "      <td>NaN</td>\n",
       "      <td>3181.694</td>\n",
       "      <td>4448.39</td>\n",
       "      <td>3802.892</td>\n",
       "      <td>26409.382</td>\n",
       "      <td>30756.726</td>\n",
       "      <td>84922.622</td>\n",
       "    </tr>\n",
       "    <tr>\n",
       "      <th>2</th>\n",
       "      <td>1009238</td>\n",
       "      <td>220 Gulf Coast Basin DEC</td>\n",
       "      <td>220 - Gulf Coast Basin (LA, TX)</td>\n",
       "      <td>35.466697</td>\n",
       "      <td>-97.514530</td>\n",
       "      <td>211120</td>\n",
       "      <td>W-ONSH</td>\n",
       "      <td>586008.596</td>\n",
       "      <td>678933.08</td>\n",
       "      <td>811064.850</td>\n",
       "      <td>767413.320</td>\n",
       "      <td>808767.966</td>\n",
       "      <td>747874.26</td>\n",
       "      <td>171273.574</td>\n",
       "      <td>63896.146</td>\n",
       "      <td>94675.778</td>\n",
       "      <td>148424.596</td>\n",
       "    </tr>\n",
       "    <tr>\n",
       "      <th>3</th>\n",
       "      <td>1008121</td>\n",
       "      <td>230 Arkla Basin DEC</td>\n",
       "      <td>230 - Arkla Basin</td>\n",
       "      <td>35.467340</td>\n",
       "      <td>-97.514060</td>\n",
       "      <td>211111</td>\n",
       "      <td>W-ONSH</td>\n",
       "      <td>NaN</td>\n",
       "      <td>NaN</td>\n",
       "      <td>NaN</td>\n",
       "      <td>NaN</td>\n",
       "      <td>NaN</td>\n",
       "      <td>NaN</td>\n",
       "      <td>NaN</td>\n",
       "      <td>21834.364</td>\n",
       "      <td>27839.934</td>\n",
       "      <td>28858.972</td>\n",
       "    </tr>\n",
       "    <tr>\n",
       "      <th>4</th>\n",
       "      <td>1009283</td>\n",
       "      <td>230 Arkla Basin QEP Energy Company</td>\n",
       "      <td>230 - Arkla Basin</td>\n",
       "      <td>39.748077</td>\n",
       "      <td>-104.994564</td>\n",
       "      <td>211130</td>\n",
       "      <td>W-ONSH</td>\n",
       "      <td>NaN</td>\n",
       "      <td>NaN</td>\n",
       "      <td>83992.518</td>\n",
       "      <td>102680.944</td>\n",
       "      <td>57168.136</td>\n",
       "      <td>135085.12</td>\n",
       "      <td>149043.056</td>\n",
       "      <td>154266.208</td>\n",
       "      <td>302760.280</td>\n",
       "      <td>348357.764</td>\n",
       "    </tr>\n",
       "  </tbody>\n",
       "</table>\n",
       "</div>"
      ],
      "text/plain": [
       "   facility_id                             facility_name  \\\n",
       "0      1000355  #540 BONANZA CREEK ENERGY - DENVER BASIN   \n",
       "1      1009263                            220 Gulf Coast   \n",
       "2      1009238                  220 Gulf Coast Basin DEC   \n",
       "3      1008121                       230 Arkla Basin DEC   \n",
       "4      1009283        230 Arkla Basin QEP Energy Company   \n",
       "\n",
       "                             basin        lat         lon  primary_naics_code  \\\n",
       "0               540 - Denver Basin  39.744310 -104.988580              211120   \n",
       "1  220 - Gulf Coast Basin (LA, TX)  35.567190  -97.498270              211111   \n",
       "2  220 - Gulf Coast Basin (LA, TX)  35.466697  -97.514530              211120   \n",
       "3                230 - Arkla Basin  35.467340  -97.514060              211111   \n",
       "4                230 - Arkla Basin  39.748077 -104.994564              211130   \n",
       "\n",
       "  industry_type_subpart  total_emissions_2020  total_emissions_2019  \\\n",
       "0                W-ONSH            293919.042             330937.72   \n",
       "1                W-ONSH                   NaN                   NaN   \n",
       "2                W-ONSH            586008.596             678933.08   \n",
       "3                W-ONSH                   NaN                   NaN   \n",
       "4                W-ONSH                   NaN                   NaN   \n",
       "\n",
       "   total_emissions_2028  total_emissions_2017  total_emissions_2016  \\\n",
       "0            273069.722            242958.734            261382.840   \n",
       "1                   NaN                   NaN              3181.694   \n",
       "2            811064.850            767413.320            808767.966   \n",
       "3                   NaN                   NaN                   NaN   \n",
       "4             83992.518            102680.944             57168.136   \n",
       "\n",
       "   total_emissions_2015  total_emissions_2014  total_emissions_2013  \\\n",
       "0             354850.70            243116.642            163013.800   \n",
       "1               4448.39              3802.892             26409.382   \n",
       "2             747874.26            171273.574             63896.146   \n",
       "3                   NaN                   NaN             21834.364   \n",
       "4             135085.12            149043.056            154266.208   \n",
       "\n",
       "   total_emissions_2012  total_emissions_2011  \n",
       "0            151519.070             17728.250  \n",
       "1             30756.726             84922.622  \n",
       "2             94675.778            148424.596  \n",
       "3             27839.934             28858.972  \n",
       "4            302760.280            348357.764  "
      ]
     },
     "execution_count": 7,
     "metadata": {},
     "output_type": "execute_result"
    }
   ],
   "source": [
    "oil_df.head()"
   ]
  },
  {
   "cell_type": "code",
   "execution_count": null,
   "id": "261b874b",
   "metadata": {},
   "outputs": [],
   "source": [
    "gather_df.columns"
   ]
  },
  {
   "cell_type": "code",
   "execution_count": null,
   "id": "340228f3",
   "metadata": {},
   "outputs": [],
   "source": []
  }
 ],
 "metadata": {
  "kernelspec": {
   "display_name": "PythonData",
   "language": "python",
   "name": "pythondata"
  },
  "language_info": {
   "codemirror_mode": {
    "name": "ipython",
    "version": 3
   },
   "file_extension": ".py",
   "mimetype": "text/x-python",
   "name": "python",
   "nbconvert_exporter": "python",
   "pygments_lexer": "ipython3",
   "version": "3.7.11"
  }
 },
 "nbformat": 4,
 "nbformat_minor": 5
}
