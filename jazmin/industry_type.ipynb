{
 "cells": [
  {
   "cell_type": "code",
   "execution_count": 1,
   "id": "7033ca76",
   "metadata": {},
   "outputs": [],
   "source": [
    "# Import dependencies\n",
    "import pandas as pd"
   ]
  },
  {
   "cell_type": "code",
   "execution_count": 4,
   "id": "d7c4d8ee",
   "metadata": {},
   "outputs": [
    {
     "data": {
      "text/html": [
       "<div>\n",
       "<style scoped>\n",
       "    .dataframe tbody tr th:only-of-type {\n",
       "        vertical-align: middle;\n",
       "    }\n",
       "\n",
       "    .dataframe tbody tr th {\n",
       "        vertical-align: top;\n",
       "    }\n",
       "\n",
       "    .dataframe thead th {\n",
       "        text-align: right;\n",
       "    }\n",
       "</style>\n",
       "<table border=\"1\" class=\"dataframe\">\n",
       "  <thead>\n",
       "    <tr style=\"text-align: right;\">\n",
       "      <th></th>\n",
       "      <th>Unnamed: 0</th>\n",
       "      <th>Unnamed: 1</th>\n",
       "      <th>Subpart Letter</th>\n",
       "      <th>Name of industry</th>\n",
       "      <th>Facility Type</th>\n",
       "    </tr>\n",
       "  </thead>\n",
       "  <tbody>\n",
       "    <tr>\n",
       "      <th>0</th>\n",
       "      <td>NaN</td>\n",
       "      <td>NaN</td>\n",
       "      <td>C</td>\n",
       "      <td>Stationary Combustion</td>\n",
       "      <td>Direct Emitter</td>\n",
       "    </tr>\n",
       "    <tr>\n",
       "      <th>1</th>\n",
       "      <td>NaN</td>\n",
       "      <td>NaN</td>\n",
       "      <td>D</td>\n",
       "      <td>Electricity Generation</td>\n",
       "      <td>Direct Emitter</td>\n",
       "    </tr>\n",
       "    <tr>\n",
       "      <th>2</th>\n",
       "      <td>NaN</td>\n",
       "      <td>NaN</td>\n",
       "      <td>E</td>\n",
       "      <td>Adipic Acid Production</td>\n",
       "      <td>Direct Emitter</td>\n",
       "    </tr>\n",
       "    <tr>\n",
       "      <th>3</th>\n",
       "      <td>NaN</td>\n",
       "      <td>NaN</td>\n",
       "      <td>F</td>\n",
       "      <td>Aluminum Production</td>\n",
       "      <td>Direct Emitter</td>\n",
       "    </tr>\n",
       "    <tr>\n",
       "      <th>4</th>\n",
       "      <td>NaN</td>\n",
       "      <td>NaN</td>\n",
       "      <td>G</td>\n",
       "      <td>Ammonia Manufacturing</td>\n",
       "      <td>Direct Emitter</td>\n",
       "    </tr>\n",
       "    <tr>\n",
       "      <th>5</th>\n",
       "      <td>NaN</td>\n",
       "      <td>NaN</td>\n",
       "      <td>H</td>\n",
       "      <td>Cement Production</td>\n",
       "      <td>Direct Emitter</td>\n",
       "    </tr>\n",
       "    <tr>\n",
       "      <th>6</th>\n",
       "      <td>NaN</td>\n",
       "      <td>NaN</td>\n",
       "      <td>I</td>\n",
       "      <td>Electronics Manufacture</td>\n",
       "      <td>Direct Emitter</td>\n",
       "    </tr>\n",
       "    <tr>\n",
       "      <th>7</th>\n",
       "      <td>NaN</td>\n",
       "      <td>NaN</td>\n",
       "      <td>K</td>\n",
       "      <td>Ferroalloy Production</td>\n",
       "      <td>Direct Emitter</td>\n",
       "    </tr>\n",
       "    <tr>\n",
       "      <th>8</th>\n",
       "      <td>NaN</td>\n",
       "      <td>NaN</td>\n",
       "      <td>L</td>\n",
       "      <td>Fluorinated GHG Production</td>\n",
       "      <td>Direct Emitter</td>\n",
       "    </tr>\n",
       "    <tr>\n",
       "      <th>9</th>\n",
       "      <td>NaN</td>\n",
       "      <td>NaN</td>\n",
       "      <td>N</td>\n",
       "      <td>Glass Production</td>\n",
       "      <td>Direct Emitter</td>\n",
       "    </tr>\n",
       "  </tbody>\n",
       "</table>\n",
       "</div>"
      ],
      "text/plain": [
       "   Unnamed: 0  Unnamed: 1 Subpart Letter            Name of industry  \\\n",
       "0         NaN         NaN              C       Stationary Combustion   \n",
       "1         NaN         NaN              D      Electricity Generation   \n",
       "2         NaN         NaN              E      Adipic Acid Production   \n",
       "3         NaN         NaN              F         Aluminum Production   \n",
       "4         NaN         NaN              G       Ammonia Manufacturing   \n",
       "5         NaN         NaN              H           Cement Production   \n",
       "6         NaN         NaN              I     Electronics Manufacture   \n",
       "7         NaN         NaN              K       Ferroalloy Production   \n",
       "8         NaN         NaN              L  Fluorinated GHG Production   \n",
       "9         NaN         NaN              N            Glass Production   \n",
       "\n",
       "    Facility Type  \n",
       "0  Direct Emitter  \n",
       "1  Direct Emitter  \n",
       "2  Direct Emitter  \n",
       "3  Direct Emitter  \n",
       "4  Direct Emitter  \n",
       "5  Direct Emitter  \n",
       "6  Direct Emitter  \n",
       "7  Direct Emitter  \n",
       "8  Direct Emitter  \n",
       "9  Direct Emitter  "
      ]
     },
     "execution_count": 4,
     "metadata": {},
     "output_type": "execute_result"
    }
   ],
   "source": [
    "# Import excel file and create DataFrame\n",
    "file_to_load = \"ghgp_data_by_year.xlsx\"\n",
    "industry_df = pd.read_excel(file_to_load, sheet_name=\"Industry Type\", header=1)\n",
    "industry_df.head(10)"
   ]
  },
  {
   "cell_type": "code",
   "execution_count": 5,
   "id": "6680cb26",
   "metadata": {},
   "outputs": [
    {
     "data": {
      "text/plain": [
       "Index(['Unnamed: 0', 'Unnamed: 1', 'Subpart Letter', 'Name of industry',\n",
       "       'Facility Type'],\n",
       "      dtype='object')"
      ]
     },
     "execution_count": 5,
     "metadata": {},
     "output_type": "execute_result"
    }
   ],
   "source": [
    "industry_df.columns"
   ]
  },
  {
   "cell_type": "code",
   "execution_count": 7,
   "id": "d7b0b5f2",
   "metadata": {},
   "outputs": [],
   "source": [
    "# Drop unwanted columns\n",
    "df = industry_df[['Subpart Letter', 'Name of industry', 'Facility Type']]"
   ]
  },
  {
   "cell_type": "code",
   "execution_count": 8,
   "id": "8dcebaff",
   "metadata": {},
   "outputs": [],
   "source": [
    "# Rename columns\n",
    "col_names = {'Subpart Letter': 'industry_type_subpart', 'Name of industry': 'industry_name', 'Facility Type': 'facility_type'}\n",
    "df = df.rename(columns=col_names)"
   ]
  },
  {
   "cell_type": "code",
   "execution_count": 9,
   "id": "6dc15576",
   "metadata": {},
   "outputs": [
    {
     "data": {
      "text/html": [
       "<div>\n",
       "<style scoped>\n",
       "    .dataframe tbody tr th:only-of-type {\n",
       "        vertical-align: middle;\n",
       "    }\n",
       "\n",
       "    .dataframe tbody tr th {\n",
       "        vertical-align: top;\n",
       "    }\n",
       "\n",
       "    .dataframe thead th {\n",
       "        text-align: right;\n",
       "    }\n",
       "</style>\n",
       "<table border=\"1\" class=\"dataframe\">\n",
       "  <thead>\n",
       "    <tr style=\"text-align: right;\">\n",
       "      <th></th>\n",
       "      <th>industry_type_subpart</th>\n",
       "      <th>industry_name</th>\n",
       "      <th>facility_type</th>\n",
       "    </tr>\n",
       "  </thead>\n",
       "  <tbody>\n",
       "    <tr>\n",
       "      <th>0</th>\n",
       "      <td>C</td>\n",
       "      <td>Stationary Combustion</td>\n",
       "      <td>Direct Emitter</td>\n",
       "    </tr>\n",
       "    <tr>\n",
       "      <th>1</th>\n",
       "      <td>D</td>\n",
       "      <td>Electricity Generation</td>\n",
       "      <td>Direct Emitter</td>\n",
       "    </tr>\n",
       "    <tr>\n",
       "      <th>2</th>\n",
       "      <td>E</td>\n",
       "      <td>Adipic Acid Production</td>\n",
       "      <td>Direct Emitter</td>\n",
       "    </tr>\n",
       "    <tr>\n",
       "      <th>3</th>\n",
       "      <td>F</td>\n",
       "      <td>Aluminum Production</td>\n",
       "      <td>Direct Emitter</td>\n",
       "    </tr>\n",
       "    <tr>\n",
       "      <th>4</th>\n",
       "      <td>G</td>\n",
       "      <td>Ammonia Manufacturing</td>\n",
       "      <td>Direct Emitter</td>\n",
       "    </tr>\n",
       "  </tbody>\n",
       "</table>\n",
       "</div>"
      ],
      "text/plain": [
       "  industry_type_subpart           industry_name   facility_type\n",
       "0                     C   Stationary Combustion  Direct Emitter\n",
       "1                     D  Electricity Generation  Direct Emitter\n",
       "2                     E  Adipic Acid Production  Direct Emitter\n",
       "3                     F     Aluminum Production  Direct Emitter\n",
       "4                     G   Ammonia Manufacturing  Direct Emitter"
      ]
     },
     "execution_count": 9,
     "metadata": {},
     "output_type": "execute_result"
    }
   ],
   "source": [
    "df.head()"
   ]
  },
  {
   "cell_type": "code",
   "execution_count": 10,
   "id": "ec23d09a",
   "metadata": {},
   "outputs": [
    {
     "data": {
      "text/plain": [
       "industry_type_subpart    object\n",
       "industry_name            object\n",
       "facility_type            object\n",
       "dtype: object"
      ]
     },
     "execution_count": 10,
     "metadata": {},
     "output_type": "execute_result"
    }
   ],
   "source": [
    "df.dtypes"
   ]
  },
  {
   "cell_type": "code",
   "execution_count": 11,
   "id": "4372e869",
   "metadata": {},
   "outputs": [
    {
     "data": {
      "text/plain": [
       "industry_type_subpart    56\n",
       "industry_name            56\n",
       "facility_type            56\n",
       "dtype: int64"
      ]
     },
     "execution_count": 11,
     "metadata": {},
     "output_type": "execute_result"
    }
   ],
   "source": [
    "df.count()"
   ]
  },
  {
   "cell_type": "code",
   "execution_count": 12,
   "id": "556c374b",
   "metadata": {},
   "outputs": [],
   "source": [
    "# Export to CSV without the index\n",
    "df.to_csv('industry_type.csv', index=False, sep=',', header=True) "
   ]
  },
  {
   "cell_type": "code",
   "execution_count": null,
   "id": "e29b2939",
   "metadata": {},
   "outputs": [],
   "source": []
  }
 ],
 "metadata": {
  "kernelspec": {
   "display_name": "PythonData",
   "language": "python",
   "name": "pythondata"
  },
  "language_info": {
   "codemirror_mode": {
    "name": "ipython",
    "version": 3
   },
   "file_extension": ".py",
   "mimetype": "text/x-python",
   "name": "python",
   "nbconvert_exporter": "python",
   "pygments_lexer": "ipython3",
   "version": "3.7.11"
  }
 },
 "nbformat": 4,
 "nbformat_minor": 5
}
